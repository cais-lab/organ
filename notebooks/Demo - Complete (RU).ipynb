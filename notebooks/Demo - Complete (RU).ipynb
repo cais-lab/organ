{
 "cells": [
  {
   "cell_type": "markdown",
   "metadata": {},
   "source": [
    "# Пример дополнения моделей\n",
    "\n",
    "В данном примере показано, как с помощью программного интерфейса (API) можно дополнять частично определенные модели СКФС. В качестве прикладной области используются модели предприятий, основанные на публичном наборе данных SAP-SAM.\n",
    "\n",
    "Для запуска примера должны быть заранее обучены генеративные модели с возможностью дополнения для набора данных SAP-SAM. Например, так:\n",
    "\n",
    "```\n",
    "python main.py --rules sapsam --data_dir demo_data\\sapsam_aug \\\n",
    "               --non_conditional --non_parametric --train_completion\n",
    "```\n"
   ]
  },
  {
   "cell_type": "code",
   "execution_count": 9,
   "metadata": {},
   "outputs": [],
   "source": [
    "import sys\n",
    "# Для загрузки модулей из основного каталога OrGAN,\n",
    "# который находится в родительском каталоге\n",
    "sys.path.insert(0, '..')"
   ]
  },
  {
   "cell_type": "code",
   "execution_count": 10,
   "metadata": {
    "collapsed": true,
    "jupyter": {
     "outputs_hidden": true
    }
   },
   "outputs": [
    {
     "name": "stdout",
     "output_type": "stream",
     "text": [
      "Max nodes: 22\n",
      "Node types: 22 22\n",
      "Edge types: 2 2\n",
      "CompletionGenerator(\n",
      "  (noise_encoder): FCBlock(\n",
      "    (layers): Sequential(\n",
      "      (0): Linear(in_features=8, out_features=128, bias=True)\n",
      "      (1): Tanh()\n",
      "      (2): Linear(in_features=128, out_features=256, bias=True)\n",
      "      (3): Tanh()\n",
      "      (4): Linear(in_features=256, out_features=512, bias=True)\n",
      "      (5): Tanh()\n",
      "    )\n",
      "  )\n",
      "  (global_to_nodes): Linear(in_features=512, out_features=66, bias=True)\n",
      "  (nodes_to_hidden): Sequential(\n",
      "    (0): Linear(in_features=5, out_features=10, bias=True)\n",
      "    (1): ReLU()\n",
      "  )\n",
      "  (nodes_encoder): Sequential(\n",
      "    (0): Linear(in_features=20, out_features=10, bias=True)\n",
      "    (1): ReLU()\n",
      "    (2): Linear(in_features=10, out_features=1, bias=True)\n",
      "  )\n",
      "  (edges_spec_layer): Linear(in_features=512, out_features=32, bias=True)\n",
      "  (edge_layers): FCBlock(\n",
      "    (layers): Sequential(\n",
      "      (0): Linear(in_features=54, out_features=128, bias=True)\n",
      "      (1): Tanh()\n",
      "      (2): Linear(in_features=128, out_features=64, bias=True)\n",
      "      (3): Tanh()\n",
      "      (4): Linear(in_features=64, out_features=32, bias=True)\n",
      "      (5): Tanh()\n",
      "    )\n",
      "  )\n",
      "  (edges_layer): Linear(in_features=32, out_features=2, bias=True)\n",
      ")\n",
      "G\n",
      "The number of parameters: 234241\n",
      "Discriminator(\n",
      "  (gcn_layer): GraphConvolution(\n",
      "    (linear1): Linear(in_features=22, out_features=128, bias=True)\n",
      "    (linear2): Linear(in_features=128, out_features=64, bias=True)\n",
      "    (dropout): Dropout(p=0.0, inplace=False)\n",
      "  )\n",
      "  (agg_layer): GraphAggregation(\n",
      "    (sigmoid_linear): Sequential(\n",
      "      (0): Linear(in_features=86, out_features=128, bias=True)\n",
      "      (1): Sigmoid()\n",
      "    )\n",
      "    (tanh_linear): Sequential(\n",
      "      (0): Linear(in_features=86, out_features=128, bias=True)\n",
      "      (1): Tanh()\n",
      "    )\n",
      "    (dropout): Dropout(p=0.0, inplace=False)\n",
      "  )\n",
      "  (edge_layer): EdgeConvolution(\n",
      "    (linears): ModuleList(\n",
      "      (0): Linear(in_features=44, out_features=16, bias=True)\n",
      "    )\n",
      "  )\n",
      "  (linear_layer): Sequential(\n",
      "    (0): Linear(in_features=144, out_features=128, bias=True)\n",
      "    (1): Dropout(p=0.0, inplace=False)\n",
      "    (2): Linear(in_features=128, out_features=64, bias=True)\n",
      "    (3): Dropout(p=0.0, inplace=False)\n",
      "  )\n",
      "  (output_layer): Linear(in_features=64, out_features=1, bias=True)\n",
      ")\n",
      "D\n",
      "The number of parameters: 61073\n",
      "Discriminator(\n",
      "  (gcn_layer): GraphConvolution(\n",
      "    (linear1): Linear(in_features=22, out_features=128, bias=True)\n",
      "    (linear2): Linear(in_features=128, out_features=64, bias=True)\n",
      "    (dropout): Dropout(p=0.0, inplace=False)\n",
      "  )\n",
      "  (agg_layer): GraphAggregation(\n",
      "    (sigmoid_linear): Sequential(\n",
      "      (0): Linear(in_features=86, out_features=128, bias=True)\n",
      "      (1): Sigmoid()\n",
      "    )\n",
      "    (tanh_linear): Sequential(\n",
      "      (0): Linear(in_features=86, out_features=128, bias=True)\n",
      "      (1): Tanh()\n",
      "    )\n",
      "    (dropout): Dropout(p=0.0, inplace=False)\n",
      "  )\n",
      "  (edge_layer): EdgeConvolution(\n",
      "    (linears): ModuleList(\n",
      "      (0): Linear(in_features=44, out_features=16, bias=True)\n",
      "    )\n",
      "  )\n",
      "  (linear_layer): Sequential(\n",
      "    (0): Linear(in_features=144, out_features=128, bias=True)\n",
      "    (1): Dropout(p=0.0, inplace=False)\n",
      "    (2): Linear(in_features=128, out_features=64, bias=True)\n",
      "    (3): Dropout(p=0.0, inplace=False)\n",
      "  )\n",
      "  (output_layer): Linear(in_features=64, out_features=1, bias=True)\n",
      ")\n",
      "V\n",
      "The number of parameters: 61073\n"
     ]
    }
   ],
   "source": [
    "import numpy as np\n",
    "\n",
    "from organ.solver import Solver\n",
    "from organ.demo import SapSamEMStructureModel\n",
    "from organ.config import make_config\n",
    "\n",
    "# Сформируем конфигурацию\n",
    "config = make_config(rules=SapSamEMStructureModel(),\n",
    "                     # Папка, в которой находятся данные набора\n",
    "                     # SAP SAM\n",
    "                     data_dir='../demo_data/sapsam_aug',\n",
    "                     # В этом наборе данных нет параметров вершин\n",
    "                     conditional=False,\n",
    "                     parametric=False,\n",
    "                     # Модель должна быть обучена на дополнение\n",
    "                     completion=True,\n",
    "                     # Папка, в которой находится модель\n",
    "                     model_save_dir='../output/models_sapsam_compl',\n",
    "                     # Идентификатор загружаемой модели\n",
    "                     # (номер итерации обучения, в результате\n",
    "                     # которой была получена данная модель)\n",
    "                     test_iters=4100,\n",
    "                     mode='test'\n",
    "                    )\n",
    "\n",
    "solver = Solver(config)\n"
   ]
  },
  {
   "cell_type": "markdown",
   "metadata": {},
   "source": [
    "## \"Простой\" интерфейс дополнения"
   ]
  },
  {
   "cell_type": "markdown",
   "metadata": {},
   "source": [
    "Для использования функции дополнения конфигурации необходимо создать частично определенную конфигурацию. Это делается с помощью указания пар \"элементы конфигурации\" и соответствующей маски для разных составных частей описания СКФС.\n",
    "\n",
    "Например, параметр `nodes` представляет собой вектор, содержащий признаки вершин, которые должны присутствовать или отсутствовать в конфигурации, а параметр `nodes_mask` указывает, следует ли генератору \"обращать внимание\" на соответствующий компонент вектора `nodes` - если значение маски равно `True`, то, по возможности, в генерируемой СКФС наличие соответствующей вершины должно совпадать с наличием ее в `nodes` (если в `nodes` 0, то вершина должна отсутствовать, если нет, то присутствовать), если же значение маски равно `False`, то наличие элемента не играет роли.\n"
   ]
  },
  {
   "cell_type": "code",
   "execution_count": 15,
   "metadata": {},
   "outputs": [
    {
     "name": "stdout",
     "output_type": "stream",
     "text": [
      "Подразделение  2 :  Sales  должно присутствовать\n",
      "Подразделение  8 :  Research & Development  должно отсутствовать\n",
      "Loading the trained models from step 4100...\n"
     ]
    }
   ],
   "source": [
    "nodes = np.zeros(22)\n",
    "nodes[2] = 2\n",
    "nodes_mask = np.zeros(22).astype(np.int8)\n",
    "nodes_mask[2] = True    # Требуем, чтобы вершина 2 была в выходной конфигурции\n",
    "nodes_mask[8] = True    # Требуем, чтобы вершины 8 не было (поскольку в nodes соответствующий компонент равен 0)\n",
    "\n",
    "for i in range(22):\n",
    "    if nodes[i] > 0 and nodes_mask[i] == 1:\n",
    "        print(\"Подразделение \", i, \": \", config.rules.node_type_dict[i][\"title\"], \" должно присутствовать\")\n",
    "    elif nodes[i] == 0 and nodes_mask[i] == 1:\n",
    "        print(\"Подразделение \", i, \": \", config.rules.node_type_dict[i][\"title\"], \" должно отсутствовать\")\n",
    "orgs = solver.complete(2, nodes=nodes, nodes_mask=nodes_mask)"
   ]
  },
  {
   "cell_type": "code",
   "execution_count": 24,
   "metadata": {},
   "outputs": [
    {
     "name": "stdout",
     "output_type": "stream",
     "text": [
      "[ 0  1  2  0  4  5  0  7  0  9 10  0  0 13  0  0  0  0  0  0  0 21]\n",
      "Подразделение  1 :  Managment\n",
      "Подразделение  2 :  Sales\n",
      "Подразделение  4 :  Finance\n",
      "Подразделение  5 :  Logistics\n",
      "Подразделение  7 :  Purchase\n",
      "Подразделение  9 :  Human Resources\n",
      "Подразделение  10 :  Legal\n",
      "Подразделение  13 :  Analytics\n",
      "Подразделение  21 :  Warehousing\n"
     ]
    }
   ],
   "source": [
    "print(orgs[0].nodes)\n",
    "for node in orgs[0].nodes:\n",
    "    if node > 0:\n",
    "        print(\"Подразделение \", node, \": \", config.rules.node_type_dict[node][\"title\"])"
   ]
  },
  {
   "cell_type": "code",
   "execution_count": 25,
   "metadata": {},
   "outputs": [
    {
     "name": "stdout",
     "output_type": "stream",
     "text": [
      "[[0 0 0 0 0 0 0 0 0 0 0 0 0 0 0 0 0 0 0 0 0 0]\n",
      " [0 0 1 0 1 1 0 1 0 1 1 0 0 1 0 0 0 0 0 0 0 1]\n",
      " [0 0 0 0 0 0 0 0 0 0 0 0 0 0 0 0 0 0 0 0 0 0]\n",
      " [0 0 0 0 0 0 0 0 0 0 0 0 0 0 0 0 0 0 0 0 0 0]\n",
      " [0 0 0 0 0 0 0 0 0 0 0 0 0 0 0 0 0 0 0 0 0 0]\n",
      " [0 0 0 0 0 0 0 0 0 0 0 0 0 0 0 0 0 0 0 0 0 0]\n",
      " [0 0 0 0 0 0 0 0 0 0 0 0 0 0 0 0 0 0 0 0 0 0]\n",
      " [0 0 0 0 0 0 0 0 0 0 0 0 0 0 0 0 0 0 0 0 0 0]\n",
      " [0 0 0 0 0 0 0 0 0 0 0 0 0 0 0 0 0 0 0 0 0 0]\n",
      " [0 0 0 0 0 0 0 0 0 0 0 0 0 0 0 0 0 0 0 0 0 0]\n",
      " [0 0 0 0 0 0 0 0 0 0 0 0 0 0 0 0 0 0 0 0 0 0]\n",
      " [0 0 0 0 0 0 0 0 0 0 0 0 0 0 0 0 0 0 0 0 0 0]\n",
      " [0 0 0 0 0 0 0 0 0 0 0 0 0 0 0 0 0 0 0 0 0 0]\n",
      " [0 0 0 0 0 0 0 0 0 0 0 0 0 0 0 0 0 0 0 0 0 0]\n",
      " [0 0 0 0 0 0 0 0 0 0 0 0 0 0 0 0 0 0 0 0 0 0]\n",
      " [0 0 0 0 0 0 0 0 0 0 0 0 0 0 0 0 0 0 0 0 0 0]\n",
      " [0 0 0 0 0 0 0 0 0 0 0 0 0 0 0 0 0 0 0 0 0 0]\n",
      " [0 0 0 0 0 0 0 0 0 0 0 0 0 0 0 0 0 0 0 0 0 0]\n",
      " [0 0 0 0 0 0 0 0 0 0 0 0 0 0 0 0 0 0 0 0 0 0]\n",
      " [0 0 0 0 0 0 0 0 0 0 0 0 0 0 0 0 0 0 0 0 0 0]\n",
      " [0 0 0 0 0 0 0 0 0 0 0 0 0 0 0 0 0 0 0 0 0 0]\n",
      " [0 0 0 0 0 0 0 0 0 0 0 0 0 0 0 0 0 0 0 0 0 0]]\n",
      "Связь ( 1 ,  2 ) от  Managment  к  Sales\n",
      "Связь ( 1 ,  4 ) от  Managment  к  Finance\n",
      "Связь ( 1 ,  5 ) от  Managment  к  Logistics\n",
      "Связь ( 1 ,  7 ) от  Managment  к  Purchase\n",
      "Связь ( 1 ,  9 ) от  Managment  к  Human Resources\n",
      "Связь ( 1 ,  10 ) от  Managment  к  Legal\n",
      "Связь ( 1 ,  13 ) от  Managment  к  Analytics\n",
      "Связь ( 1 ,  21 ) от  Managment  к  Warehousing\n"
     ]
    }
   ],
   "source": [
    "print(orgs[0].edges)\n",
    "for i in range(22):\n",
    "    for j in range(22):\n",
    "        if orgs[0].edges[i,j] > 0:\n",
    "            print(\"Связь (\", i, \", \", j, \") от \", \n",
    "                  config.rules.node_type_dict[i][\"title\"], \" к \", config.rules.node_type_dict[j][\"title\"]\n",
    "                 )"
   ]
  },
  {
   "cell_type": "markdown",
   "metadata": {},
   "source": [
    "## Дополнение заведомо валидными структурами"
   ]
  },
  {
   "cell_type": "code",
   "execution_count": 32,
   "metadata": {},
   "outputs": [
    {
     "name": "stdout",
     "output_type": "stream",
     "text": [
      "Loading the trained models from step 4100...\n"
     ]
    }
   ],
   "source": [
    "orgs = solver.complete_valid(10, nodes=nodes, nodes_mask=nodes_mask)"
   ]
  },
  {
   "cell_type": "code",
   "execution_count": 33,
   "metadata": {},
   "outputs": [
    {
     "name": "stdout",
     "output_type": "stream",
     "text": [
      "10\n"
     ]
    }
   ],
   "source": [
    "print(len(orgs))"
   ]
  },
  {
   "cell_type": "code",
   "execution_count": 34,
   "metadata": {},
   "outputs": [
    {
     "name": "stdout",
     "output_type": "stream",
     "text": [
      "[ 0  1  2  3  4  5  0  7  0  0 10  0  0 13 14 15  0  0  0  0  0  0]\n",
      "Подразделение  1 :  Managment\n",
      "Подразделение  2 :  Sales\n",
      "Подразделение  3 :  Production\n",
      "Подразделение  4 :  Finance\n",
      "Подразделение  5 :  Logistics\n",
      "Подразделение  7 :  Purchase\n",
      "Подразделение  10 :  Legal\n",
      "Подразделение  13 :  Analytics\n",
      "Подразделение  14 :  Quality Management\n",
      "Подразделение  15 :  Operations\n"
     ]
    }
   ],
   "source": [
    "print(orgs[0].nodes)\n",
    "for node in orgs[0].nodes:\n",
    "    if node > 0:\n",
    "        print(\"Подразделение \", node, \": \", config.rules.node_type_dict[node][\"title\"])"
   ]
  },
  {
   "cell_type": "code",
   "execution_count": 35,
   "metadata": {},
   "outputs": [
    {
     "name": "stdout",
     "output_type": "stream",
     "text": [
      "[[0 0 0 0 0 0 0 0 0 0 0 0 0 0 0 0 0 0 0 0 0 0]\n",
      " [0 0 1 1 1 1 0 1 0 0 1 0 0 1 1 1 0 0 0 0 0 0]\n",
      " [0 0 0 0 0 0 0 0 0 0 0 0 0 0 0 0 0 0 0 0 0 0]\n",
      " [0 0 0 0 0 0 0 0 0 0 0 0 0 0 0 0 0 0 0 0 0 0]\n",
      " [0 0 0 0 0 0 0 0 0 0 0 0 0 0 0 0 0 0 0 0 0 0]\n",
      " [0 0 0 0 0 0 0 0 0 0 0 0 0 0 0 0 0 0 0 0 0 0]\n",
      " [0 0 0 0 0 0 0 0 0 0 0 0 0 0 0 0 0 0 0 0 0 0]\n",
      " [0 0 0 0 0 0 0 0 0 0 0 0 0 0 0 0 0 0 0 0 0 0]\n",
      " [0 0 0 0 0 0 0 0 0 0 0 0 0 0 0 0 0 0 0 0 0 0]\n",
      " [0 0 0 0 0 0 0 0 0 0 0 0 0 0 0 0 0 0 0 0 0 0]\n",
      " [0 0 0 0 0 0 0 0 0 0 0 0 0 0 0 0 0 0 0 0 0 0]\n",
      " [0 0 0 0 0 0 0 0 0 0 0 0 0 0 0 0 0 0 0 0 0 0]\n",
      " [0 0 0 0 0 0 0 0 0 0 0 0 0 0 0 0 0 0 0 0 0 0]\n",
      " [0 0 0 0 0 0 0 0 0 0 0 0 0 0 0 0 0 0 0 0 0 0]\n",
      " [0 0 0 0 0 0 0 0 0 0 0 0 0 0 0 0 0 0 0 0 0 0]\n",
      " [0 0 0 0 0 0 0 0 0 0 0 0 0 0 0 0 0 0 0 0 0 0]\n",
      " [0 0 0 0 0 0 0 0 0 0 0 0 0 0 0 0 0 0 0 0 0 0]\n",
      " [0 0 0 0 0 0 0 0 0 0 0 0 0 0 0 0 0 0 0 0 0 0]\n",
      " [0 0 0 0 0 0 0 0 0 0 0 0 0 0 0 0 0 0 0 0 0 0]\n",
      " [0 0 0 0 0 0 0 0 0 0 0 0 0 0 0 0 0 0 0 0 0 0]\n",
      " [0 0 0 0 0 0 0 0 0 0 0 0 0 0 0 0 0 0 0 0 0 0]\n",
      " [0 0 0 0 0 0 0 0 0 0 0 0 0 0 0 0 0 0 0 0 0 0]]\n",
      "Связь ( 1 ,  2 ) от  Managment  к  Sales\n",
      "Связь ( 1 ,  3 ) от  Managment  к  Production\n",
      "Связь ( 1 ,  4 ) от  Managment  к  Finance\n",
      "Связь ( 1 ,  5 ) от  Managment  к  Logistics\n",
      "Связь ( 1 ,  7 ) от  Managment  к  Purchase\n",
      "Связь ( 1 ,  10 ) от  Managment  к  Legal\n",
      "Связь ( 1 ,  13 ) от  Managment  к  Analytics\n",
      "Связь ( 1 ,  14 ) от  Managment  к  Quality Management\n",
      "Связь ( 1 ,  15 ) от  Managment  к  Operations\n"
     ]
    }
   ],
   "source": [
    "print(orgs[0].edges)\n",
    "for i in range(22):\n",
    "    for j in range(22):\n",
    "        if orgs[0].edges[i,j] > 0:\n",
    "            print(\"Связь (\", i, \", \", j, \") от \", \n",
    "                  config.rules.node_type_dict[i][\"title\"], \" к \", config.rules.node_type_dict[j][\"title\"]\n",
    "                 )"
   ]
  },
  {
   "cell_type": "code",
   "execution_count": null,
   "metadata": {},
   "outputs": [],
   "source": []
  }
 ],
 "metadata": {
  "kernelspec": {
   "display_name": "Python 3",
   "language": "python",
   "name": "python3"
  },
  "language_info": {
   "codemirror_mode": {
    "name": "ipython",
    "version": 3
   },
   "file_extension": ".py",
   "mimetype": "text/x-python",
   "name": "python",
   "nbconvert_exporter": "python",
   "pygments_lexer": "ipython3",
   "version": "3.6.9"
  }
 },
 "nbformat": 4,
 "nbformat_minor": 5
}
